{
 "cells": [
  {
   "cell_type": "code",
   "execution_count": 11,
   "metadata": {},
   "outputs": [],
   "source": [
    "import json\n",
    "import matplotlib.pyplot as plt\n",
    "import seaborn as sns"
   ]
  },
  {
   "cell_type": "code",
   "execution_count": 3,
   "metadata": {},
   "outputs": [],
   "source": [
    "STRATEGY = [\"desktop\", \"mobile\"][0]\n",
    "CATEGORY = [\"accessibility\", \"performance\", \"best-practices\"][0]"
   ]
  },
  {
   "cell_type": "code",
   "execution_count": 6,
   "metadata": {},
   "outputs": [
    {
     "name": "stdout",
     "output_type": "stream",
     "text": [
      "data/desktop_accessibility.json\n"
     ]
    }
   ],
   "source": [
    "JSON_FILE_NAME = f\"data/{STRATEGY}_{CATEGORY}.json\"\n",
    "print(JSON_FILE_NAME)"
   ]
  },
  {
   "cell_type": "code",
   "execution_count": 5,
   "metadata": {},
   "outputs": [],
   "source": [
    "json_obj = None\n",
    "with open(JSON_FILE_NAME, \"r\") as in_file:\n",
    "    json_obj = json.load(in_file)\n",
    "    # print(json.dumps(j_file, indent=4, ensure_ascii=False))"
   ]
  },
  {
   "cell_type": "code",
   "execution_count": 9,
   "metadata": {},
   "outputs": [
    {
     "name": "stdout",
     "output_type": "stream",
     "text": [
      "0.69\n",
      "0.76\n",
      "0.78\n",
      "0.9\n",
      "0.75\n",
      "0.74\n",
      "0.8\n",
      "0.73\n",
      "0.82\n",
      "0.8\n",
      "Gaziantep Büyükşehir Belediyesi\n",
      "0.86\n",
      "0.69\n",
      "0.74\n",
      "0.81\n",
      "Konya Büyükşehir Belediyesi\n",
      "0.82\n",
      "0.61\n",
      "0.78\n",
      "0.77\n",
      "0.41\n",
      "0.74\n",
      "0.72\n",
      "0.57\n",
      "0.63\n",
      "0.77\n",
      "0.74\n",
      "0.82\n",
      "0.8\n",
      "0.55\n"
     ]
    }
   ],
   "source": [
    "scores = []\n",
    "for k, v in json_obj.items():\n",
    "    try:\n",
    "        acc_score = v[\"lighthouseResult\"][\"categories\"][\"accessibility\"][\"score\"]\n",
    "        scores.append(acc_score)\n",
    "        print(acc_score)\n",
    "    except:\n",
    "        print(k)"
   ]
  },
  {
   "cell_type": "code",
   "execution_count": 19,
   "metadata": {},
   "outputs": [
    {
     "data": {
      "text/plain": [
       "<seaborn.axisgrid.FacetGrid at 0x148ab6100>"
      ]
     },
     "execution_count": 19,
     "metadata": {},
     "output_type": "execute_result"
    },
    {
     "data": {
      "image/png": "[encoded data removed]",
      "text/plain": [
       "<Figure size 500x500 with 1 Axes>"
      ]
     },
     "metadata": {},
     "output_type": "display_data"
    }
   ],
   "source": [
    "sns.displot(scores, kind=\"hist\")"
   ]
  },
  {
   "cell_type": "code",
   "execution_count": null,
   "metadata": {},
   "outputs": [],
   "source": []
  }
 ],
 "metadata": {
  "kernelspec": {
   "display_name": "Python 3.9.13 ('tfnew')",
   "language": "python",
   "name": "python3"
  },
  "language_info": {
   "codemirror_mode": {
    "name": "ipython",
    "version": 3
   },
   "file_extension": ".py",
   "mimetype": "text/x-python",
   "name": "python",
   "nbconvert_exporter": "python",
   "pygments_lexer": "ipython3",
   "version": "3.9.13"
  },
  "orig_nbformat": 4,
  "vscode": {
   "interpreter": {
    "hash": "93a508892ad0418bbbef2f3796edd4c06527622cb95cdcc5e9525e8332085ac2"
   }
  }
 },
 "nbformat": 4,
 "nbformat_minor": 2
}

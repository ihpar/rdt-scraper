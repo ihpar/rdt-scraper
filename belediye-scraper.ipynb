{
 "cells": [
  {
   "cell_type": "code",
   "execution_count": null,
   "metadata": {},
   "outputs": [],
   "source": [
    "import pandas as pd\n",
    "import json\n",
    "import requests\n",
    "from dotenv import load_dotenv\n",
    "import os\n"
   ]
  },
  {
   "cell_type": "code",
   "execution_count": null,
   "metadata": {},
   "outputs": [],
   "source": [
    "load_dotenv()\n",
    "G_KEY = os.getenv(\"GOOGLE\")\n",
    "STRATEGY = [\"desktop\", \"mobile\"][1]\n",
    "CATEGORY = [\"accessibility\", \"performance\", \"best-practices\"][2]\n"
   ]
  },
  {
   "cell_type": "code",
   "execution_count": null,
   "metadata": {},
   "outputs": [],
   "source": [
    "GOOGLE_API_PAGE_SPEED = \"https://www.googleapis.com/pagespeedonline/v5/runPagespeed\"\n",
    "JSON_FILE_NAME = f\"data/{STRATEGY}_{CATEGORY}.json\"\n",
    "print(JSON_FILE_NAME)\n"
   ]
  },
  {
   "cell_type": "code",
   "execution_count": null,
   "metadata": {},
   "outputs": [],
   "source": [
    "df = pd.read_excel(\"data/buyuksehir_belediyeleri.xlsx\")\n",
    "df.head()\n"
   ]
  },
  {
   "cell_type": "code",
   "execution_count": null,
   "metadata": {},
   "outputs": [],
   "source": [
    "api_results = {}\n"
   ]
  },
  {
   "cell_type": "code",
   "execution_count": null,
   "metadata": {},
   "outputs": [],
   "source": [
    "for i in range(len(df)):\n",
    "    belediye = df.iloc[i][\"Belediye\"]\n",
    "    web = df.iloc[i][\"Web\"]\n",
    "    print(i+1, belediye, web)\n",
    "    params = {\n",
    "        \"url\": web,\n",
    "        \"key\": G_KEY,\n",
    "        \"strategy\": STRATEGY,\n",
    "        \"category\": CATEGORY\n",
    "    }\n",
    "    res = requests.get(GOOGLE_API_PAGE_SPEED, params=params).json()\n",
    "    if i == 0:\n",
    "        print(res)\n",
    "\n",
    "    api_results[belediye] = res\n"
   ]
  },
  {
   "cell_type": "code",
   "execution_count": null,
   "metadata": {},
   "outputs": [],
   "source": [
    "with open(JSON_FILE_NAME, \"w\") as out_file:\n",
    "    json.dump(api_results, out_file,\n",
    "              sort_keys=True,\n",
    "              indent=4,\n",
    "              ensure_ascii=False)\n"
   ]
  },
  {
   "cell_type": "code",
   "execution_count": null,
   "metadata": {},
   "outputs": [],
   "source": [
    "j_file = None\n",
    "with open(JSON_FILE_NAME, \"r\") as in_file:\n",
    "    j_file = json.load(in_file)\n",
    "    print(json.dumps(j_file, indent=4, ensure_ascii=False))\n"
   ]
  }
 ],
 "metadata": {
  "kernelspec": {
   "display_name": "Python 3.9.13 ('tfnew')",
   "language": "python",
   "name": "python3"
  },
  "language_info": {
   "codemirror_mode": {
    "name": "ipython",
    "version": 3
   },
   "file_extension": ".py",
   "mimetype": "text/x-python",
   "name": "python",
   "nbconvert_exporter": "python",
   "pygments_lexer": "ipython3",
   "version": "3.9.13"
  },
  "orig_nbformat": 4,
  "vscode": {
   "interpreter": {
    "hash": "93a508892ad0418bbbef2f3796edd4c06527622cb95cdcc5e9525e8332085ac2"
   }
  }
 },
 "nbformat": 4,
 "nbformat_minor": 2
}

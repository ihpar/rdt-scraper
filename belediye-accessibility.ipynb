{
 "cells": [
  {
   "cell_type": "code",
   "execution_count": null,
   "metadata": {},
   "outputs": [],
   "source": [
    "import json\n",
    "import matplotlib.pyplot as plt\n",
    "import seaborn as sns\n",
    "import numpy as np\n",
    "plt.rcParams[\"font.family\"] = \"Times\"\n"
   ]
  },
  {
   "cell_type": "code",
   "execution_count": null,
   "metadata": {},
   "outputs": [],
   "source": [
    "STRATEGY = [\"desktop\", \"mobile\"][0]\n",
    "CATEGORY = [\"accessibility\", \"performance\", \"best-practices\"][2]\n"
   ]
  },
  {
   "cell_type": "code",
   "execution_count": null,
   "metadata": {},
   "outputs": [],
   "source": [
    "JSON_FILE_NAME = f\"data/{STRATEGY}_{CATEGORY}.json\"\n",
    "print(JSON_FILE_NAME)\n"
   ]
  },
  {
   "cell_type": "code",
   "execution_count": null,
   "metadata": {},
   "outputs": [],
   "source": [
    "json_obj = None\n",
    "with open(JSON_FILE_NAME, \"r\") as in_file:\n",
    "    json_obj = json.load(in_file)\n"
   ]
  },
  {
   "cell_type": "code",
   "execution_count": null,
   "metadata": {},
   "outputs": [],
   "source": [
    "scores = []\n",
    "best_score, worst_score = 0, 100\n",
    "best_website, worst_website = None, None\n",
    "sites = {}\n",
    "for k, v in json_obj.items():\n",
    "    try:\n",
    "        acc_score = v[\"lighthouseResult\"][\"categories\"][\"accessibility\"][\"score\"] * 100\n",
    "        if acc_score > best_score:\n",
    "            best_score = acc_score\n",
    "            best_website = k\n",
    "        \n",
    "        if acc_score < worst_score:\n",
    "            worst_score = acc_score\n",
    "            worst_website = k\n",
    "        scores.append(acc_score)\n",
    "        sites[k] = acc_score\n",
    "    except:\n",
    "        print(k)\n",
    "\n",
    "scores = np.array(scores)\n"
   ]
  },
  {
   "cell_type": "code",
   "execution_count": null,
   "metadata": {},
   "outputs": [],
   "source": [
    "print(best_score, best_website)\n",
    "print(worst_score, worst_website)"
   ]
  },
  {
   "cell_type": "code",
   "execution_count": null,
   "metadata": {},
   "outputs": [],
   "source": [
    "i = 1\n",
    "for k in sorted(sites, key=sites.get, reverse=True):\n",
    "    print(i, k, sites[k])\n",
    "    i += 1"
   ]
  },
  {
   "cell_type": "code",
   "execution_count": null,
   "metadata": {},
   "outputs": [],
   "source": [
    "graph = sns.displot(scores, kind=\"kde\", height=3, aspect=5/3)\n",
    "graph.refline(x=90, color=\"#080\")\n",
    "graph.refline(x=50, color=\"#c00\")\n",
    "\n",
    "graph.set(xlabel=\"Accessibility Scores\",\n",
    "          ylabel=\"Website Density\",\n",
    "          title=\"Mobile Accessibility Score Distribution\")\n",
    "\n",
    "axes = graph.axes.flatten()\n",
    "axes[0].text(92, 0.03, \"Score = 90\", c=\"#080\", rotation=90)\n",
    "axes[0].text(52, 0.03, \"Score = 50\", c=\"#c00\", rotation=90)\n",
    "\n",
    "kde_x = axes[0].lines[0].get_xdata()\n",
    "kde_y = axes[0].lines[0].get_ydata()\n",
    "\n",
    "axes[0].fill_between(kde_x, kde_y, where=(kde_x < 50), color=\"#f33\")\n",
    "axes[0].fill_between(kde_x, kde_y, where=(kde_x >= 50)\n",
    "                     & (kde_x <= 90), color=\"#fa9f02\")\n",
    "axes[0].fill_between(kde_x, kde_y, where=(kde_x > 90), color=\"#0c6\")\n",
    "\n",
    "plt.savefig(f\"results/{STRATEGY}_{CATEGORY}.pdf\", bbox_inches=\"tight\")\n",
    "plt.show()\n"
   ]
  },
  {
   "cell_type": "code",
   "execution_count": null,
   "metadata": {},
   "outputs": [],
   "source": [
    "np.mean(scores)\n"
   ]
  },
  {
   "cell_type": "code",
   "execution_count": null,
   "metadata": {},
   "outputs": [],
   "source": [
    "print(np.max(scores), np.min(scores))\n"
   ]
  },
  {
   "cell_type": "code",
   "execution_count": null,
   "metadata": {},
   "outputs": [],
   "source": [
    "len(scores[np.where(scores >= 90)]) / len(scores) * 100\n"
   ]
  },
  {
   "cell_type": "code",
   "execution_count": null,
   "metadata": {},
   "outputs": [],
   "source": [
    "len(scores[np.where(scores <= 50)]) / len(scores) * 100"
   ]
  },
  {
   "cell_type": "code",
   "execution_count": null,
   "metadata": {},
   "outputs": [],
   "source": [
    "len(scores)\n"
   ]
  },
  {
   "cell_type": "code",
   "execution_count": null,
   "metadata": {},
   "outputs": [],
   "source": [
    "for k, v in json_obj.items():\n",
    "    try:\n",
    "        acc_score = v[\"lighthouseResult\"][\"categories\"][\"accessibility\"][\"score\"] * 100\n",
    "        if acc_score < 51:\n",
    "            print(k)\n",
    "    except:\n",
    "        pass\n"
   ]
  }
 ],
 "metadata": {
  "kernelspec": {
   "display_name": "Python 3.9.13 ('tfnew')",
   "language": "python",
   "name": "python3"
  },
  "language_info": {
   "codemirror_mode": {
    "name": "ipython",
    "version": 3
   },
   "file_extension": ".py",
   "mimetype": "text/x-python",
   "name": "python",
   "nbconvert_exporter": "python",
   "pygments_lexer": "ipython3",
   "version": "3.9.13"
  },
  "orig_nbformat": 4,
  "vscode": {
   "interpreter": {
    "hash": "93a508892ad0418bbbef2f3796edd4c06527622cb95cdcc5e9525e8332085ac2"
   }
  }
 },
 "nbformat": 4,
 "nbformat_minor": 2
}
